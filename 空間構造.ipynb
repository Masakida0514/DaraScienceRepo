{
  "cells": [
    {
      "cell_type": "markdown",
      "metadata": {
        "id": "view-in-github",
        "colab_type": "text"
      },
      "source": [
        "<a href=\"https://colab.research.google.com/github/Masakida0514/DaraScienceRepo/blob/main/%E7%A9%BA%E9%96%93%E6%A7%8B%E9%80%A0.ipynb\" target=\"_parent\"><img src=\"https://colab.research.google.com/assets/colab-badge.svg\" alt=\"Open In Colab\"/></a>"
      ]
    },
    {
      "cell_type": "markdown",
      "id": "b548dec8-5744-4f26-92d3-4d6bda87133c",
      "metadata": {
        "id": "b548dec8-5744-4f26-92d3-4d6bda87133c"
      },
      "source": [
        "## 内容\n",
        "位置情報($x_1$,$x_2$)と気温$y$のデータの読み込み\\\n",
        "回帰分析（最近傍法、k近傍法(kNN)、Nadayara Watson回帰）\\\n",
        "未知の場所の推論"
      ]
    },
    {
      "cell_type": "code",
      "execution_count": null,
      "id": "b1c07f0b-c17d-4340-a834-9066bbd1fe87",
      "metadata": {
        "id": "b1c07f0b-c17d-4340-a834-9066bbd1fe87"
      },
      "outputs": [],
      "source": [
        "import matplotlib.pyplot as plt\n",
        "import numpy as np\n",
        "import pandas as pd\n",
        "from sklearn.neighbors import KNeighborsRegressor\n",
        "from statsmodels.nonparametric.kernel_regression import KernelReg"
      ]
    },
    {
      "cell_type": "code",
      "execution_count": null,
      "id": "6fd7cf49-56bf-4a61-a8b6-cea908bf3e88",
      "metadata": {
        "id": "6fd7cf49-56bf-4a61-a8b6-cea908bf3e88",
        "outputId": "5b481ed2-d552-4e6f-b1a1-894b2804f99c"
      },
      "outputs": [
        {
          "data": {
            "text/html": [
              "<div>\n",
              "<style scoped>\n",
              "    .dataframe tbody tr th:only-of-type {\n",
              "        vertical-align: middle;\n",
              "    }\n",
              "\n",
              "    .dataframe tbody tr th {\n",
              "        vertical-align: top;\n",
              "    }\n",
              "\n",
              "    .dataframe thead th {\n",
              "        text-align: right;\n",
              "    }\n",
              "</style>\n",
              "<table border=\"1\" class=\"dataframe\">\n",
              "  <thead>\n",
              "    <tr style=\"text-align: right;\">\n",
              "      <th></th>\n",
              "      <th>観測地点</th>\n",
              "      <th>緯度</th>\n",
              "      <th>経度</th>\n",
              "      <th>年平均気温 (℃)</th>\n",
              "    </tr>\n",
              "  </thead>\n",
              "  <tbody>\n",
              "    <tr>\n",
              "      <th>0</th>\n",
              "      <td>札幌</td>\n",
              "      <td>43.06417</td>\n",
              "      <td>141.34694</td>\n",
              "      <td>9.2</td>\n",
              "    </tr>\n",
              "    <tr>\n",
              "      <th>1</th>\n",
              "      <td>青森</td>\n",
              "      <td>40.82444</td>\n",
              "      <td>140.74000</td>\n",
              "      <td>10.7</td>\n",
              "    </tr>\n",
              "    <tr>\n",
              "      <th>2</th>\n",
              "      <td>盛岡</td>\n",
              "      <td>39.70361</td>\n",
              "      <td>141.15250</td>\n",
              "      <td>10.6</td>\n",
              "    </tr>\n",
              "    <tr>\n",
              "      <th>3</th>\n",
              "      <td>仙台</td>\n",
              "      <td>38.26889</td>\n",
              "      <td>140.87194</td>\n",
              "      <td>12.8</td>\n",
              "    </tr>\n",
              "    <tr>\n",
              "      <th>4</th>\n",
              "      <td>秋田</td>\n",
              "      <td>39.71861</td>\n",
              "      <td>140.10250</td>\n",
              "      <td>12.1</td>\n",
              "    </tr>\n",
              "  </tbody>\n",
              "</table>\n",
              "</div>"
            ],
            "text/plain": [
              "  観測地点        緯度         経度  年平均気温 (℃)\n",
              "0   札幌  43.06417  141.34694        9.2\n",
              "1   青森  40.82444  140.74000       10.7\n",
              "2   盛岡  39.70361  141.15250       10.6\n",
              "3   仙台  38.26889  140.87194       12.8\n",
              "4   秋田  39.71861  140.10250       12.1"
            ]
          },
          "execution_count": 117,
          "metadata": {},
          "output_type": "execute_result"
        }
      ],
      "source": [
        "# データ取り込み(総務省統計局のデータを少し整理したもの)\n",
        "df = pd.read_csv(\"place-temp.csv\") \n",
        "df.head()"
      ]
    },
    {
      "cell_type": "code",
      "execution_count": null,
      "id": "7048975b-2f6b-42c3-94f1-48f3fbea43bf",
      "metadata": {
        "id": "7048975b-2f6b-42c3-94f1-48f3fbea43bf",
        "outputId": "ad7a7553-92aa-4fe5-d4c7-35ff4ee1e228"
      },
      "outputs": [
        {
          "data": {
            "text/html": [
              "<div>\n",
              "<style scoped>\n",
              "    .dataframe tbody tr th:only-of-type {\n",
              "        vertical-align: middle;\n",
              "    }\n",
              "\n",
              "    .dataframe tbody tr th {\n",
              "        vertical-align: top;\n",
              "    }\n",
              "\n",
              "    .dataframe thead th {\n",
              "        text-align: right;\n",
              "    }\n",
              "</style>\n",
              "<table border=\"1\" class=\"dataframe\">\n",
              "  <thead>\n",
              "    <tr style=\"text-align: right;\">\n",
              "      <th></th>\n",
              "      <th>観測地点</th>\n",
              "      <th>緯度</th>\n",
              "      <th>経度</th>\n",
              "      <th>年平均気温 (℃)</th>\n",
              "    </tr>\n",
              "  </thead>\n",
              "  <tbody>\n",
              "    <tr>\n",
              "      <th>42</th>\n",
              "      <td>熊本</td>\n",
              "      <td>32.78972</td>\n",
              "      <td>130.74167</td>\n",
              "      <td>17.2</td>\n",
              "    </tr>\n",
              "    <tr>\n",
              "      <th>43</th>\n",
              "      <td>大分</td>\n",
              "      <td>33.23806</td>\n",
              "      <td>131.61250</td>\n",
              "      <td>16.8</td>\n",
              "    </tr>\n",
              "    <tr>\n",
              "      <th>44</th>\n",
              "      <td>宮崎</td>\n",
              "      <td>31.91111</td>\n",
              "      <td>131.42389</td>\n",
              "      <td>17.7</td>\n",
              "    </tr>\n",
              "    <tr>\n",
              "      <th>45</th>\n",
              "      <td>鹿児島</td>\n",
              "      <td>31.56028</td>\n",
              "      <td>130.55806</td>\n",
              "      <td>18.8</td>\n",
              "    </tr>\n",
              "    <tr>\n",
              "      <th>46</th>\n",
              "      <td>那覇</td>\n",
              "      <td>26.21250</td>\n",
              "      <td>127.68111</td>\n",
              "      <td>23.3</td>\n",
              "    </tr>\n",
              "  </tbody>\n",
              "</table>\n",
              "</div>"
            ],
            "text/plain": [
              "   観測地点        緯度         経度  年平均気温 (℃)\n",
              "42   熊本  32.78972  130.74167       17.2\n",
              "43   大分  33.23806  131.61250       16.8\n",
              "44   宮崎  31.91111  131.42389       17.7\n",
              "45  鹿児島  31.56028  130.55806       18.8\n",
              "46   那覇  26.21250  127.68111       23.3"
            ]
          },
          "execution_count": 107,
          "metadata": {},
          "output_type": "execute_result"
        }
      ],
      "source": [
        "df.tail()"
      ]
    },
    {
      "cell_type": "code",
      "execution_count": null,
      "id": "79da5070-acc9-4e0d-8979-0bdcdf7f0597",
      "metadata": {
        "id": "79da5070-acc9-4e0d-8979-0bdcdf7f0597"
      },
      "outputs": [],
      "source": [
        "x = df[[\"緯度\", \"経度\"]].values\n",
        "y = df[\"年平均気温 (℃)\"].values"
      ]
    },
    {
      "cell_type": "code",
      "execution_count": null,
      "id": "349c4414-6b6c-4123-ae34-dabdb534de38",
      "metadata": {
        "id": "349c4414-6b6c-4123-ae34-dabdb534de38",
        "outputId": "ef06128d-cbb5-499a-b89c-f874b83f06aa"
      },
      "outputs": [
        {
          "data": {
            "text/plain": [
              "Text(0, 0.5, 'latitude')"
            ]
          },
          "execution_count": 109,
          "metadata": {},
          "output_type": "execute_result"
        },
        {
          "data": {
            "image/png": "[encoded data removed]",
            "text/plain": [
              "<Figure size 432x288 with 1 Axes>"
            ]
          },
          "metadata": {
            "needs_background": "light"
          },
          "output_type": "display_data"
        }
      ],
      "source": [
        "# データの可視化\n",
        "plt.scatter(x[:,1],x[:,0], c=y)\n",
        "plt.xlabel(\"longitude\")\n",
        "plt.ylabel(\"latitude\")"
      ]
    },
    {
      "cell_type": "markdown",
      "id": "c433e0e9-2db9-4013-9ef3-386f6b67174c",
      "metadata": {
        "tags": [],
        "id": "c433e0e9-2db9-4013-9ef3-386f6b67174c"
      },
      "source": [
        "### 最近傍法"
      ]
    },
    {
      "cell_type": "code",
      "execution_count": null,
      "id": "3be721f9-5037-407f-98fb-ccc3c377840c",
      "metadata": {
        "id": "3be721f9-5037-407f-98fb-ccc3c377840c"
      },
      "outputs": [],
      "source": [
        "# 最近傍法のモデル定義\n",
        "nn = KNeighborsRegressor(n_neighbors=1)"
      ]
    },
    {
      "cell_type": "code",
      "execution_count": null,
      "id": "3495eb2d-bcd1-4fe8-bd33-a8f90a65a3df",
      "metadata": {
        "id": "3495eb2d-bcd1-4fe8-bd33-a8f90a65a3df",
        "outputId": "79469e38-3f08-4be1-e29e-7c160bae0d65"
      },
      "outputs": [
        {
          "data": {
            "text/plain": [
              "KNeighborsRegressor(n_neighbors=1)"
            ]
          },
          "execution_count": 111,
          "metadata": {},
          "output_type": "execute_result"
        }
      ],
      "source": [
        "# 回帰\n",
        "nn.fit(x,y)"
      ]
    },
    {
      "cell_type": "code",
      "execution_count": null,
      "id": "340559c3-2208-48b7-b65c-dcf24e0f7676",
      "metadata": {
        "id": "340559c3-2208-48b7-b65c-dcf24e0f7676",
        "outputId": "628a4e86-dd1b-4f81-f3a3-7d72fd138fae"
      },
      "outputs": [
        {
          "name": "stdout",
          "output_type": "stream",
          "text": [
            "[15.8]\n"
          ]
        }
      ],
      "source": [
        "# 未知地点(早稲田大学)\n",
        "x_new = np.array([[35.7098407, 139.72313]])\n",
        "\n",
        "# 予測\n",
        "y_pred_nn = nn.predict(x_new)\n",
        "print(y_pred_nn)"
      ]
    },
    {
      "cell_type": "markdown",
      "id": "b9744769-2a30-4f0c-b887-6b84f089b47c",
      "metadata": {
        "tags": [],
        "id": "b9744769-2a30-4f0c-b887-6b84f089b47c"
      },
      "source": [
        "### kNN"
      ]
    },
    {
      "cell_type": "code",
      "execution_count": null,
      "id": "28e0bffc-a64a-49a5-882a-012bc61bf5cb",
      "metadata": {
        "id": "28e0bffc-a64a-49a5-882a-012bc61bf5cb",
        "outputId": "27e8315c-29da-44da-bec8-7cf2818dcd46"
      },
      "outputs": [
        {
          "name": "stdout",
          "output_type": "stream",
          "text": [
            "[15.58]\n"
          ]
        }
      ],
      "source": [
        "# kNNのモデル定義\n",
        "knn = KNeighborsRegressor(n_neighbors=5)\n",
        "\n",
        "# 回帰\n",
        "knn.fit(x,y)\n",
        "\n",
        "# 予測\n",
        "y_pred_knn = knn.predict(x_new)\n",
        "print(y_pred_knn)"
      ]
    },
    {
      "cell_type": "code",
      "execution_count": null,
      "id": "83a92abf-fab3-4276-b898-68db4855a900",
      "metadata": {
        "id": "83a92abf-fab3-4276-b898-68db4855a900",
        "outputId": "b3b3687a-e2fe-41f8-a958-762c3dbb2c30"
      },
      "outputs": [
        {
          "name": "stdout",
          "output_type": "stream",
          "text": [
            "[15.76228013]\n"
          ]
        }
      ],
      "source": [
        "# ガウス過程回帰のモデル\n",
        "gpr = GaussianProcessRegressor()\n",
        "\n",
        "# 学習\n",
        "gpr.fit(x,y)\n",
        "\n",
        "# 予測\n",
        "y_pred_gpr = gpr.predict(x_new)\n",
        "print(y_pred_gpr)"
      ]
    },
    {
      "cell_type": "markdown",
      "id": "71557b85-37a5-4395-aea2-49ab376492fb",
      "metadata": {
        "tags": [],
        "id": "71557b85-37a5-4395-aea2-49ab376492fb"
      },
      "source": [
        "### Nadaraya-Watson回帰"
      ]
    },
    {
      "cell_type": "code",
      "execution_count": null,
      "id": "1935e177-558b-4749-9cb6-521b6f65c8bb",
      "metadata": {
        "id": "1935e177-558b-4749-9cb6-521b6f65c8bb",
        "outputId": "292308e2-89b8-47a1-fba7-f7fb64cef8e2"
      },
      "outputs": [
        {
          "name": "stdout",
          "output_type": "stream",
          "text": [
            "[15.59348884]\n"
          ]
        }
      ],
      "source": [
        "# Nadaraya-Watson回帰モデルの学習\n",
        "model = KernelReg(exog=x,endog=y,var_type=[\"c\",\"c\"])\n",
        "\n",
        "# 予測\n",
        "y_pred_nw = model.fit(x_new)\n",
        "print(y_pred_nw[0])"
      ]
    },
    {
      "cell_type": "code",
      "execution_count": null,
      "id": "228a8edd-1aac-4366-880c-0166f44e5e65",
      "metadata": {
        "id": "228a8edd-1aac-4366-880c-0166f44e5e65",
        "outputId": "727aeca7-add8-4bb4-f92d-112607930053"
      },
      "outputs": [
        {
          "name": "stdout",
          "output_type": "stream",
          "text": [
            "最近傍法による予測： [15.8]\n",
            "kNNによる予測： [15.58]\n",
            "Nadaraya-Watson回帰による予測： [15.59348884]\n"
          ]
        }
      ],
      "source": [
        "# まとめ\n",
        "print(\"最近傍法による予測：\", y_pred_nn)\n",
        "print(\"kNNによる予測：\", y_pred_knn)\n",
        "# print(\"ガウス過程回帰による予測：\", y_pred_gpr)\n",
        "print(\"Nadaraya-Watson回帰による予測：\", y_pred_nw[0])"
      ]
    },
    {
      "cell_type": "markdown",
      "id": "41831edf-a784-41a3-a09f-ab7c1219b7b0",
      "metadata": {
        "tags": [],
        "id": "41831edf-a784-41a3-a09f-ab7c1219b7b0"
      },
      "source": [
        "### 推論結果の評価"
      ]
    },
    {
      "cell_type": "code",
      "execution_count": null,
      "id": "01623ce7-8e2c-424a-97ae-d4cabf09a8de",
      "metadata": {
        "id": "01623ce7-8e2c-424a-97ae-d4cabf09a8de"
      },
      "outputs": [],
      "source": [
        "index = 26 #大阪のデータを回帰から除外し、検証用に使う\n",
        "x_train = np.delete(x, [index], axis=0) \n",
        "y_train = np.delete(y, [index], axis=0)\n",
        "x_test = x[index].reshape(1,-1)\n",
        "y_test = y[index]"
      ]
    },
    {
      "cell_type": "code",
      "execution_count": null,
      "id": "0cf7b94a-b965-4ee4-9225-e768e841577a",
      "metadata": {
        "id": "0cf7b94a-b965-4ee4-9225-e768e841577a"
      },
      "outputs": [],
      "source": [
        "# 最近傍法\n",
        "nn.fit(x_train, y_train)\n",
        "y_pred_nn = nn.predict(x_test)\n",
        "\n",
        "# kNN\n",
        "knn.fit(x_train, y_train)\n",
        "y_pred_knn = knn.predict(x_test)\n",
        "\n",
        "# Nadaraya-Watson回帰\n",
        "model = KernelReg(exog=x_train, endog=y_train,var_type=[\"c\",\"c\"])\n",
        "y_pred_nw = model.fit(x_test)"
      ]
    },
    {
      "cell_type": "code",
      "execution_count": null,
      "id": "4012cdec-7775-482f-97fa-ddf407d973cc",
      "metadata": {
        "id": "4012cdec-7775-482f-97fa-ddf407d973cc",
        "outputId": "79bc4e2e-c0b1-4764-ffe4-6522d066a923"
      },
      "outputs": [
        {
          "name": "stdout",
          "output_type": "stream",
          "text": [
            "大阪の年平均気温： 17.1\n",
            "最近傍法による予測： [15.2]\n",
            "kNNによる予測： [16.06]\n",
            "Nadaraya-Watson回帰による予測： [16.18351962]\n"
          ]
        }
      ],
      "source": [
        "print(\"大阪の年平均気温：\", y_test)\n",
        "print(\"最近傍法による予測：\", y_pred_nn)\n",
        "print(\"kNNによる予測：\", y_pred_knn)\n",
        "print(\"Nadaraya-Watson回帰による予測：\", y_pred_nw[0])"
      ]
    },
    {
      "cell_type": "markdown",
      "id": "0a60ec0b-bc45-4ef0-8bb7-7cbe941c056d",
      "metadata": {
        "id": "0a60ec0b-bc45-4ef0-8bb7-7cbe941c056d"
      },
      "source": [
        "### (参考まで)ガウス過程回帰の場合"
      ]
    },
    {
      "cell_type": "code",
      "execution_count": null,
      "id": "8da90339-f583-45e4-9446-f107a5e72fab",
      "metadata": {
        "id": "8da90339-f583-45e4-9446-f107a5e72fab",
        "outputId": "73aea385-c4b9-4c00-ecf3-bcd8d8157e28"
      },
      "outputs": [
        {
          "name": "stdout",
          "output_type": "stream",
          "text": [
            "[16.30574763]\n"
          ]
        }
      ],
      "source": [
        "from sklearn.gaussian_process import GaussianProcessRegressor\n",
        "\n",
        "# モデル定義\n",
        "gpr = GaussianProcessRegressor()\n",
        "\n",
        "# 回帰\n",
        "gpr.fit(x_train, y_train)\n",
        "\n",
        "# 予測\n",
        "y_pred_gpr = gpr.predict(x_test)\n",
        "print(y_pred_gpr)"
      ]
    },
    {
      "cell_type": "code",
      "execution_count": null,
      "id": "b2221943-52cd-4dae-b937-35ff71bba698",
      "metadata": {
        "id": "b2221943-52cd-4dae-b937-35ff71bba698"
      },
      "outputs": [],
      "source": [
        ""
      ]
    }
  ],
  "metadata": {
    "kernelspec": {
      "display_name": "Python 3 (ipykernel)",
      "language": "python",
      "name": "python3"
    },
    "language_info": {
      "codemirror_mode": {
        "name": "ipython",
        "version": 3
      },
      "file_extension": ".py",
      "mimetype": "text/x-python",
      "name": "python",
      "nbconvert_exporter": "python",
      "pygments_lexer": "ipython3",
      "version": "3.7.0"
    },
    "colab": {
      "name": "空間構造.ipynb",
      "provenance": [],
      "include_colab_link": true
    }
  },
  "nbformat": 4,
  "nbformat_minor": 5
}