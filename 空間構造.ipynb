{
  "cells": [
    {
      "cell_type": "markdown",
      "metadata": {
        "id": "view-in-github",
        "colab_type": "text"
      },
      "source": [
        "<a href=\"https://colab.research.google.com/github/Masakida0514/DaraScienceRepo/blob/main/%E7%A9%BA%E9%96%93%E6%A7%8B%E9%80%A0.ipynb\" target=\"_parent\"><img src=\"https://colab.research.google.com/assets/colab-badge.svg\" alt=\"Open In Colab\"/></a>"
      ]
    },
    {
      "cell_type": "markdown",
      "id": "b548dec8-5744-4f26-92d3-4d6bda87133c",
      "metadata": {
        "id": "b548dec8-5744-4f26-92d3-4d6bda87133c"
      },
      "source": [
        "## 内容\n",
        "早稲田大学における気温を他県の気温から予測する\\\n",
        "位置情報($x_1$,$x_2$)と気温$y$のデータの読み込み\\\n",
        "回帰分析（最近傍法、k近傍法(kNN)、Nadayara Watson回帰）\\\n",
        "未知の場所の推論"
      ]
    },
    {
      "cell_type": "code",
      "execution_count": 22,
      "id": "b1c07f0b-c17d-4340-a834-9066bbd1fe87",
      "metadata": {
        "id": "b1c07f0b-c17d-4340-a834-9066bbd1fe87"
      },
      "outputs": [],
      "source": [
        "import matplotlib.pyplot as plt\n",
        "import numpy as np\n",
        "import pandas as pd\n",
        "from sklearn.neighbors import KNeighborsRegressor\n",
        "from sklearn.gaussian_process import GaussianProcessRegressor\n",
        "from statsmodels.nonparametric.kernel_regression import KernelReg"
      ]
    },
    {
      "cell_type": "code",
      "execution_count": 23,
      "id": "6fd7cf49-56bf-4a61-a8b6-cea908bf3e88",
      "metadata": {
        "colab": {
          "base_uri": "https://localhost:8080/",
          "height": 206
        },
        "id": "6fd7cf49-56bf-4a61-a8b6-cea908bf3e88",
        "outputId": "97a000ce-9a08-48cd-b552-678782fa6bb3"
      },
      "outputs": [
        {
          "output_type": "execute_result",
          "data": {
            "text/plain": [
              "  観測地点        緯度         経度  年平均気温 (℃)\n",
              "0   札幌  43.06417  141.34694        9.2\n",
              "1   青森  40.82444  140.74000       10.7\n",
              "2   盛岡  39.70361  141.15250       10.6\n",
              "3   仙台  38.26889  140.87194       12.8\n",
              "4   秋田  39.71861  140.10250       12.1"
            ],
            "text/html": [
              "\n",
              "  <div id=\"df-492736b3-9b0e-4703-b3bf-7e2a67b0e80d\">\n",
              "    <div class=\"colab-df-container\">\n",
              "      <div>\n",
              "<style scoped>\n",
              "    .dataframe tbody tr th:only-of-type {\n",
              "        vertical-align: middle;\n",
              "    }\n",
              "\n",
              "    .dataframe tbody tr th {\n",
              "        vertical-align: top;\n",
              "    }\n",
              "\n",
              "    .dataframe thead th {\n",
              "        text-align: right;\n",
              "    }\n",
              "</style>\n",
              "<table border=\"1\" class=\"dataframe\">\n",
              "  <thead>\n",
              "    <tr style=\"text-align: right;\">\n",
              "      <th></th>\n",
              "      <th>観測地点</th>\n",
              "      <th>緯度</th>\n",
              "      <th>経度</th>\n",
              "      <th>年平均気温 (℃)</th>\n",
              "    </tr>\n",
              "  </thead>\n",
              "  <tbody>\n",
              "    <tr>\n",
              "      <th>0</th>\n",
              "      <td>札幌</td>\n",
              "      <td>43.06417</td>\n",
              "      <td>141.34694</td>\n",
              "      <td>9.2</td>\n",
              "    </tr>\n",
              "    <tr>\n",
              "      <th>1</th>\n",
              "      <td>青森</td>\n",
              "      <td>40.82444</td>\n",
              "      <td>140.74000</td>\n",
              "      <td>10.7</td>\n",
              "    </tr>\n",
              "    <tr>\n",
              "      <th>2</th>\n",
              "      <td>盛岡</td>\n",
              "      <td>39.70361</td>\n",
              "      <td>141.15250</td>\n",
              "      <td>10.6</td>\n",
              "    </tr>\n",
              "    <tr>\n",
              "      <th>3</th>\n",
              "      <td>仙台</td>\n",
              "      <td>38.26889</td>\n",
              "      <td>140.87194</td>\n",
              "      <td>12.8</td>\n",
              "    </tr>\n",
              "    <tr>\n",
              "      <th>4</th>\n",
              "      <td>秋田</td>\n",
              "      <td>39.71861</td>\n",
              "      <td>140.10250</td>\n",
              "      <td>12.1</td>\n",
              "    </tr>\n",
              "  </tbody>\n",
              "</table>\n",
              "</div>\n",
              "      <button class=\"colab-df-convert\" onclick=\"convertToInteractive('df-492736b3-9b0e-4703-b3bf-7e2a67b0e80d')\"\n",
              "              title=\"Convert this dataframe to an interactive table.\"\n",
              "              style=\"display:none;\">\n",
              "        \n",
              "  <svg xmlns=\"http://www.w3.org/2000/svg\" height=\"24px\"viewBox=\"0 0 24 24\"\n",
              "       width=\"24px\">\n",
              "    <path d=\"M0 0h24v24H0V0z\" fill=\"none\"/>\n",
              "    <path d=\"M18.56 5.44l.94 2.06.94-2.06 2.06-.94-2.06-.94-.94-2.06-.94 2.06-2.06.94zm-11 1L8.5 8.5l.94-2.06 2.06-.94-2.06-.94L8.5 2.5l-.94 2.06-2.06.94zm10 10l.94 2.06.94-2.06 2.06-.94-2.06-.94-.94-2.06-.94 2.06-2.06.94z\"/><path d=\"M17.41 7.96l-1.37-1.37c-.4-.4-.92-.59-1.43-.59-.52 0-1.04.2-1.43.59L10.3 9.45l-7.72 7.72c-.78.78-.78 2.05 0 2.83L4 21.41c.39.39.9.59 1.41.59.51 0 1.02-.2 1.41-.59l7.78-7.78 2.81-2.81c.8-.78.8-2.07 0-2.86zM5.41 20L4 18.59l7.72-7.72 1.47 1.35L5.41 20z\"/>\n",
              "  </svg>\n",
              "      </button>\n",
              "      \n",
              "  <style>\n",
              "    .colab-df-container {\n",
              "      display:flex;\n",
              "      flex-wrap:wrap;\n",
              "      gap: 12px;\n",
              "    }\n",
              "\n",
              "    .colab-df-convert {\n",
              "      background-color: #E8F0FE;\n",
              "      border: none;\n",
              "      border-radius: 50%;\n",
              "      cursor: pointer;\n",
              "      display: none;\n",
              "      fill: #1967D2;\n",
              "      height: 32px;\n",
              "      padding: 0 0 0 0;\n",
              "      width: 32px;\n",
              "    }\n",
              "\n",
              "    .colab-df-convert:hover {\n",
              "      background-color: #E2EBFA;\n",
              "      box-shadow: 0px 1px 2px rgba(60, 64, 67, 0.3), 0px 1px 3px 1px rgba(60, 64, 67, 0.15);\n",
              "      fill: #174EA6;\n",
              "    }\n",
              "\n",
              "    [theme=dark] .colab-df-convert {\n",
              "      background-color: #3B4455;\n",
              "      fill: #D2E3FC;\n",
              "    }\n",
              "\n",
              "    [theme=dark] .colab-df-convert:hover {\n",
              "      background-color: #434B5C;\n",
              "      box-shadow: 0px 1px 3px 1px rgba(0, 0, 0, 0.15);\n",
              "      filter: drop-shadow(0px 1px 2px rgba(0, 0, 0, 0.3));\n",
              "      fill: #FFFFFF;\n",
              "    }\n",
              "  </style>\n",
              "\n",
              "      <script>\n",
              "        const buttonEl =\n",
              "          document.querySelector('#df-492736b3-9b0e-4703-b3bf-7e2a67b0e80d button.colab-df-convert');\n",
              "        buttonEl.style.display =\n",
              "          google.colab.kernel.accessAllowed ? 'block' : 'none';\n",
              "\n",
              "        async function convertToInteractive(key) {\n",
              "          const element = document.querySelector('#df-492736b3-9b0e-4703-b3bf-7e2a67b0e80d');\n",
              "          const dataTable =\n",
              "            await google.colab.kernel.invokeFunction('convertToInteractive',\n",
              "                                                     [key], {});\n",
              "          if (!dataTable) return;\n",
              "\n",
              "          const docLinkHtml = 'Like what you see? Visit the ' +\n",
              "            '<a target=\"_blank\" href=https://colab.research.google.com/notebooks/data_table.ipynb>data table notebook</a>'\n",
              "            + ' to learn more about interactive tables.';\n",
              "          element.innerHTML = '';\n",
              "          dataTable['output_type'] = 'display_data';\n",
              "          await google.colab.output.renderOutput(dataTable, element);\n",
              "          const docLink = document.createElement('div');\n",
              "          docLink.innerHTML = docLinkHtml;\n",
              "          element.appendChild(docLink);\n",
              "        }\n",
              "      </script>\n",
              "    </div>\n",
              "  </div>\n",
              "  "
            ]
          },
          "metadata": {},
          "execution_count": 23
        }
      ],
      "source": [
        "# データ取り込み(総務省統計局のデータを少し整理したもの)\n",
        "df = pd.read_csv(\"place-temp.csv\") \n",
        "df.head()"
      ]
    },
    {
      "cell_type": "code",
      "execution_count": 24,
      "id": "7048975b-2f6b-42c3-94f1-48f3fbea43bf",
      "metadata": {
        "colab": {
          "base_uri": "https://localhost:8080/",
          "height": 206
        },
        "id": "7048975b-2f6b-42c3-94f1-48f3fbea43bf",
        "outputId": "8a0b4877-2988-41aa-9567-5c1fce926bd0"
      },
      "outputs": [
        {
          "output_type": "execute_result",
          "data": {
            "text/plain": [
              "   観測地点        緯度         経度  年平均気温 (℃)\n",
              "42   熊本  32.78972  130.74167       17.2\n",
              "43   大分  33.23806  131.61250       16.8\n",
              "44   宮崎  31.91111  131.42389       17.7\n",
              "45  鹿児島  31.56028  130.55806       18.8\n",
              "46   那覇  26.21250  127.68111       23.3"
            ],
            "text/html": [
              "\n",
              "  <div id=\"df-2249a576-db54-41ee-935d-518d7ad666a3\">\n",
              "    <div class=\"colab-df-container\">\n",
              "      <div>\n",
              "<style scoped>\n",
              "    .dataframe tbody tr th:only-of-type {\n",
              "        vertical-align: middle;\n",
              "    }\n",
              "\n",
              "    .dataframe tbody tr th {\n",
              "        vertical-align: top;\n",
              "    }\n",
              "\n",
              "    .dataframe thead th {\n",
              "        text-align: right;\n",
              "    }\n",
              "</style>\n",
              "<table border=\"1\" class=\"dataframe\">\n",
              "  <thead>\n",
              "    <tr style=\"text-align: right;\">\n",
              "      <th></th>\n",
              "      <th>観測地点</th>\n",
              "      <th>緯度</th>\n",
              "      <th>経度</th>\n",
              "      <th>年平均気温 (℃)</th>\n",
              "    </tr>\n",
              "  </thead>\n",
              "  <tbody>\n",
              "    <tr>\n",
              "      <th>42</th>\n",
              "      <td>熊本</td>\n",
              "      <td>32.78972</td>\n",
              "      <td>130.74167</td>\n",
              "      <td>17.2</td>\n",
              "    </tr>\n",
              "    <tr>\n",
              "      <th>43</th>\n",
              "      <td>大分</td>\n",
              "      <td>33.23806</td>\n",
              "      <td>131.61250</td>\n",
              "      <td>16.8</td>\n",
              "    </tr>\n",
              "    <tr>\n",
              "      <th>44</th>\n",
              "      <td>宮崎</td>\n",
              "      <td>31.91111</td>\n",
              "      <td>131.42389</td>\n",
              "      <td>17.7</td>\n",
              "    </tr>\n",
              "    <tr>\n",
              "      <th>45</th>\n",
              "      <td>鹿児島</td>\n",
              "      <td>31.56028</td>\n",
              "      <td>130.55806</td>\n",
              "      <td>18.8</td>\n",
              "    </tr>\n",
              "    <tr>\n",
              "      <th>46</th>\n",
              "      <td>那覇</td>\n",
              "      <td>26.21250</td>\n",
              "      <td>127.68111</td>\n",
              "      <td>23.3</td>\n",
              "    </tr>\n",
              "  </tbody>\n",
              "</table>\n",
              "</div>\n",
              "      <button class=\"colab-df-convert\" onclick=\"convertToInteractive('df-2249a576-db54-41ee-935d-518d7ad666a3')\"\n",
              "              title=\"Convert this dataframe to an interactive table.\"\n",
              "              style=\"display:none;\">\n",
              "        \n",
              "  <svg xmlns=\"http://www.w3.org/2000/svg\" height=\"24px\"viewBox=\"0 0 24 24\"\n",
              "       width=\"24px\">\n",
              "    <path d=\"M0 0h24v24H0V0z\" fill=\"none\"/>\n",
              "    <path d=\"M18.56 5.44l.94 2.06.94-2.06 2.06-.94-2.06-.94-.94-2.06-.94 2.06-2.06.94zm-11 1L8.5 8.5l.94-2.06 2.06-.94-2.06-.94L8.5 2.5l-.94 2.06-2.06.94zm10 10l.94 2.06.94-2.06 2.06-.94-2.06-.94-.94-2.06-.94 2.06-2.06.94z\"/><path d=\"M17.41 7.96l-1.37-1.37c-.4-.4-.92-.59-1.43-.59-.52 0-1.04.2-1.43.59L10.3 9.45l-7.72 7.72c-.78.78-.78 2.05 0 2.83L4 21.41c.39.39.9.59 1.41.59.51 0 1.02-.2 1.41-.59l7.78-7.78 2.81-2.81c.8-.78.8-2.07 0-2.86zM5.41 20L4 18.59l7.72-7.72 1.47 1.35L5.41 20z\"/>\n",
              "  </svg>\n",
              "      </button>\n",
              "      \n",
              "  <style>\n",
              "    .colab-df-container {\n",
              "      display:flex;\n",
              "      flex-wrap:wrap;\n",
              "      gap: 12px;\n",
              "    }\n",
              "\n",
              "    .colab-df-convert {\n",
              "      background-color: #E8F0FE;\n",
              "      border: none;\n",
              "      border-radius: 50%;\n",
              "      cursor: pointer;\n",
              "      display: none;\n",
              "      fill: #1967D2;\n",
              "      height: 32px;\n",
              "      padding: 0 0 0 0;\n",
              "      width: 32px;\n",
              "    }\n",
              "\n",
              "    .colab-df-convert:hover {\n",
              "      background-color: #E2EBFA;\n",
              "      box-shadow: 0px 1px 2px rgba(60, 64, 67, 0.3), 0px 1px 3px 1px rgba(60, 64, 67, 0.15);\n",
              "      fill: #174EA6;\n",
              "    }\n",
              "\n",
              "    [theme=dark] .colab-df-convert {\n",
              "      background-color: #3B4455;\n",
              "      fill: #D2E3FC;\n",
              "    }\n",
              "\n",
              "    [theme=dark] .colab-df-convert:hover {\n",
              "      background-color: #434B5C;\n",
              "      box-shadow: 0px 1px 3px 1px rgba(0, 0, 0, 0.15);\n",
              "      filter: drop-shadow(0px 1px 2px rgba(0, 0, 0, 0.3));\n",
              "      fill: #FFFFFF;\n",
              "    }\n",
              "  </style>\n",
              "\n",
              "      <script>\n",
              "        const buttonEl =\n",
              "          document.querySelector('#df-2249a576-db54-41ee-935d-518d7ad666a3 button.colab-df-convert');\n",
              "        buttonEl.style.display =\n",
              "          google.colab.kernel.accessAllowed ? 'block' : 'none';\n",
              "\n",
              "        async function convertToInteractive(key) {\n",
              "          const element = document.querySelector('#df-2249a576-db54-41ee-935d-518d7ad666a3');\n",
              "          const dataTable =\n",
              "            await google.colab.kernel.invokeFunction('convertToInteractive',\n",
              "                                                     [key], {});\n",
              "          if (!dataTable) return;\n",
              "\n",
              "          const docLinkHtml = 'Like what you see? Visit the ' +\n",
              "            '<a target=\"_blank\" href=https://colab.research.google.com/notebooks/data_table.ipynb>data table notebook</a>'\n",
              "            + ' to learn more about interactive tables.';\n",
              "          element.innerHTML = '';\n",
              "          dataTable['output_type'] = 'display_data';\n",
              "          await google.colab.output.renderOutput(dataTable, element);\n",
              "          const docLink = document.createElement('div');\n",
              "          docLink.innerHTML = docLinkHtml;\n",
              "          element.appendChild(docLink);\n",
              "        }\n",
              "      </script>\n",
              "    </div>\n",
              "  </div>\n",
              "  "
            ]
          },
          "metadata": {},
          "execution_count": 24
        }
      ],
      "source": [
        "df.tail()"
      ]
    },
    {
      "cell_type": "code",
      "execution_count": 25,
      "id": "79da5070-acc9-4e0d-8979-0bdcdf7f0597",
      "metadata": {
        "id": "79da5070-acc9-4e0d-8979-0bdcdf7f0597"
      },
      "outputs": [],
      "source": [
        "x = df[[\"緯度\", \"経度\"]].values\n",
        "y = df[\"年平均気温 (℃)\"].values"
      ]
    },
    {
      "cell_type": "code",
      "execution_count": 26,
      "id": "349c4414-6b6c-4123-ae34-dabdb534de38",
      "metadata": {
        "colab": {
          "base_uri": "https://localhost:8080/",
          "height": 297
        },
        "id": "349c4414-6b6c-4123-ae34-dabdb534de38",
        "outputId": "4e83e211-86c6-4a95-8713-a068430038f5"
      },
      "outputs": [
        {
          "output_type": "execute_result",
          "data": {
            "text/plain": [
              "Text(0, 0.5, 'latitude')"
            ]
          },
          "metadata": {},
          "execution_count": 26
        },
        {
          "output_type": "display_data",
          "data": {
            "text/plain": [
              "<Figure size 432x288 with 1 Axes>"
            ],
            "image/png": "[encoded data removed]"
          },
          "metadata": {
            "needs_background": "light"
          }
        }
      ],
      "source": [
        "# データの可視化\n",
        "plt.scatter(x[:,1],x[:,0], c=y)\n",
        "plt.xlabel(\"longitude\")\n",
        "plt.ylabel(\"latitude\")"
      ]
    },
    {
      "cell_type": "markdown",
      "id": "c433e0e9-2db9-4013-9ef3-386f6b67174c",
      "metadata": {
        "tags": [],
        "id": "c433e0e9-2db9-4013-9ef3-386f6b67174c"
      },
      "source": [
        "### 最近傍法"
      ]
    },
    {
      "cell_type": "code",
      "execution_count": 27,
      "id": "3be721f9-5037-407f-98fb-ccc3c377840c",
      "metadata": {
        "id": "3be721f9-5037-407f-98fb-ccc3c377840c"
      },
      "outputs": [],
      "source": [
        "# 最近傍法のモデル定義\n",
        "nn = KNeighborsRegressor(n_neighbors=1)"
      ]
    },
    {
      "cell_type": "code",
      "execution_count": 28,
      "id": "3495eb2d-bcd1-4fe8-bd33-a8f90a65a3df",
      "metadata": {
        "colab": {
          "base_uri": "https://localhost:8080/"
        },
        "id": "3495eb2d-bcd1-4fe8-bd33-a8f90a65a3df",
        "outputId": "7e5364e0-8ab4-4596-a2e1-afd3f925b83e"
      },
      "outputs": [
        {
          "output_type": "execute_result",
          "data": {
            "text/plain": [
              "KNeighborsRegressor(n_neighbors=1)"
            ]
          },
          "metadata": {},
          "execution_count": 28
        }
      ],
      "source": [
        "# 回帰\n",
        "nn.fit(x,y)"
      ]
    },
    {
      "cell_type": "code",
      "execution_count": 29,
      "id": "340559c3-2208-48b7-b65c-dcf24e0f7676",
      "metadata": {
        "colab": {
          "base_uri": "https://localhost:8080/"
        },
        "id": "340559c3-2208-48b7-b65c-dcf24e0f7676",
        "outputId": "41e5c00d-401c-43c3-9519-27512fd10c40"
      },
      "outputs": [
        {
          "output_type": "stream",
          "name": "stdout",
          "text": [
            "[15.8]\n"
          ]
        }
      ],
      "source": [
        "# 未知地点(早稲田大学)\n",
        "x_new = np.array([[35.7098407, 139.72313]])\n",
        "\n",
        "# 予測\n",
        "y_pred_nn = nn.predict(x_new)\n",
        "print(y_pred_nn)"
      ]
    },
    {
      "cell_type": "markdown",
      "id": "b9744769-2a30-4f0c-b887-6b84f089b47c",
      "metadata": {
        "tags": [],
        "id": "b9744769-2a30-4f0c-b887-6b84f089b47c"
      },
      "source": [
        "### kNN"
      ]
    },
    {
      "cell_type": "code",
      "execution_count": 30,
      "id": "28e0bffc-a64a-49a5-882a-012bc61bf5cb",
      "metadata": {
        "colab": {
          "base_uri": "https://localhost:8080/"
        },
        "id": "28e0bffc-a64a-49a5-882a-012bc61bf5cb",
        "outputId": "ce18937e-48cb-4c37-f5a9-bc659dd59f3a"
      },
      "outputs": [
        {
          "output_type": "stream",
          "name": "stdout",
          "text": [
            "[15.58]\n"
          ]
        }
      ],
      "source": [
        "# kNNのモデル定義\n",
        "knn = KNeighborsRegressor(n_neighbors=5)\n",
        "\n",
        "# 回帰\n",
        "knn.fit(x,y)\n",
        "\n",
        "# 予測\n",
        "y_pred_knn = knn.predict(x_new)\n",
        "print(y_pred_knn)"
      ]
    },
    {
      "cell_type": "code",
      "execution_count": 31,
      "id": "83a92abf-fab3-4276-b898-68db4855a900",
      "metadata": {
        "colab": {
          "base_uri": "https://localhost:8080/"
        },
        "id": "83a92abf-fab3-4276-b898-68db4855a900",
        "outputId": "9dbcdd82-a52f-4e5c-d683-f80a0d4dd49b"
      },
      "outputs": [
        {
          "output_type": "stream",
          "name": "stdout",
          "text": [
            "[15.76228013]\n"
          ]
        }
      ],
      "source": [
        "# ガウス過程回帰のモデル\n",
        "gpr = GaussianProcessRegressor()\n",
        "\n",
        "# 学習\n",
        "gpr.fit(x,y)\n",
        "\n",
        "# 予測\n",
        "y_pred_gpr = gpr.predict(x_new)\n",
        "print(y_pred_gpr)"
      ]
    },
    {
      "cell_type": "markdown",
      "id": "71557b85-37a5-4395-aea2-49ab376492fb",
      "metadata": {
        "tags": [],
        "id": "71557b85-37a5-4395-aea2-49ab376492fb"
      },
      "source": [
        "### Nadaraya-Watson回帰"
      ]
    },
    {
      "cell_type": "code",
      "execution_count": 32,
      "id": "1935e177-558b-4749-9cb6-521b6f65c8bb",
      "metadata": {
        "colab": {
          "base_uri": "https://localhost:8080/"
        },
        "id": "1935e177-558b-4749-9cb6-521b6f65c8bb",
        "outputId": "f1208a20-4681-48ee-b25e-f2c1cecbf159"
      },
      "outputs": [
        {
          "output_type": "stream",
          "name": "stdout",
          "text": [
            "[15.59348884]\n"
          ]
        }
      ],
      "source": [
        "# Nadaraya-Watson回帰モデルの学習\n",
        "model = KernelReg(exog=x,endog=y,var_type=[\"c\",\"c\"])\n",
        "\n",
        "# 予測\n",
        "y_pred_nw = model.fit(x_new)\n",
        "print(y_pred_nw[0])"
      ]
    },
    {
      "cell_type": "code",
      "execution_count": 33,
      "id": "228a8edd-1aac-4366-880c-0166f44e5e65",
      "metadata": {
        "colab": {
          "base_uri": "https://localhost:8080/"
        },
        "id": "228a8edd-1aac-4366-880c-0166f44e5e65",
        "outputId": "f9d85cef-331a-4d2c-f44f-c08e806296b2"
      },
      "outputs": [
        {
          "output_type": "stream",
          "name": "stdout",
          "text": [
            "最近傍法による予測： [15.8]\n",
            "kNNによる予測： [15.58]\n",
            "Nadaraya-Watson回帰による予測： [15.59348884]\n"
          ]
        }
      ],
      "source": [
        "# まとめ\n",
        "print(\"最近傍法による予測：\", y_pred_nn)\n",
        "print(\"kNNによる予測：\", y_pred_knn)\n",
        "# print(\"ガウス過程回帰による予測：\", y_pred_gpr)\n",
        "print(\"Nadaraya-Watson回帰による予測：\", y_pred_nw[0])"
      ]
    },
    {
      "cell_type": "markdown",
      "id": "41831edf-a784-41a3-a09f-ab7c1219b7b0",
      "metadata": {
        "tags": [],
        "id": "41831edf-a784-41a3-a09f-ab7c1219b7b0"
      },
      "source": [
        "### 推論結果の評価"
      ]
    },
    {
      "cell_type": "code",
      "execution_count": 34,
      "id": "01623ce7-8e2c-424a-97ae-d4cabf09a8de",
      "metadata": {
        "id": "01623ce7-8e2c-424a-97ae-d4cabf09a8de"
      },
      "outputs": [],
      "source": [
        "index = 26 #大阪のデータを回帰から除外し、検証用に使う\n",
        "x_train = np.delete(x, [index], axis=0) \n",
        "y_train = np.delete(y, [index], axis=0)\n",
        "x_test = x[index].reshape(1,-1)\n",
        "y_test = y[index]"
      ]
    },
    {
      "cell_type": "code",
      "execution_count": 35,
      "id": "0cf7b94a-b965-4ee4-9225-e768e841577a",
      "metadata": {
        "id": "0cf7b94a-b965-4ee4-9225-e768e841577a"
      },
      "outputs": [],
      "source": [
        "# 最近傍法\n",
        "nn.fit(x_train, y_train)\n",
        "y_pred_nn = nn.predict(x_test)\n",
        "\n",
        "# kNN\n",
        "knn.fit(x_train, y_train)\n",
        "y_pred_knn = knn.predict(x_test)\n",
        "\n",
        "# Nadaraya-Watson回帰\n",
        "model = KernelReg(exog=x_train, endog=y_train,var_type=[\"c\",\"c\"])\n",
        "y_pred_nw = model.fit(x_test)"
      ]
    },
    {
      "cell_type": "code",
      "execution_count": 36,
      "id": "4012cdec-7775-482f-97fa-ddf407d973cc",
      "metadata": {
        "colab": {
          "base_uri": "https://localhost:8080/"
        },
        "id": "4012cdec-7775-482f-97fa-ddf407d973cc",
        "outputId": "ab191936-3643-4a2d-c8d9-8aedcb3ed700"
      },
      "outputs": [
        {
          "output_type": "stream",
          "name": "stdout",
          "text": [
            "大阪の年平均気温： 17.1\n",
            "最近傍法による予測： [15.2]\n",
            "kNNによる予測： [16.06]\n",
            "Nadaraya-Watson回帰による予測： [16.18351962]\n"
          ]
        }
      ],
      "source": [
        "print(\"大阪の年平均気温：\", y_test)\n",
        "print(\"最近傍法による予測：\", y_pred_nn)\n",
        "print(\"kNNによる予測：\", y_pred_knn)\n",
        "print(\"Nadaraya-Watson回帰による予測：\", y_pred_nw[0])"
      ]
    },
    {
      "cell_type": "code",
      "execution_count": null,
      "id": "b2221943-52cd-4dae-b937-35ff71bba698",
      "metadata": {
        "id": "b2221943-52cd-4dae-b937-35ff71bba698"
      },
      "outputs": [],
      "source": [
        ""
      ]
    }
  ],
  "metadata": {
    "kernelspec": {
      "display_name": "Python 3 (ipykernel)",
      "language": "python",
      "name": "python3"
    },
    "language_info": {
      "codemirror_mode": {
        "name": "ipython",
        "version": 3
      },
      "file_extension": ".py",
      "mimetype": "text/x-python",
      "name": "python",
      "nbconvert_exporter": "python",
      "pygments_lexer": "ipython3",
      "version": "3.7.0"
    },
    "colab": {
      "name": "空間構造.ipynb",
      "provenance": [],
      "include_colab_link": true
    }
  },
  "nbformat": 4,
  "nbformat_minor": 5
}